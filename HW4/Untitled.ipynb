{
 "cells": [
  {
   "cell_type": "code",
   "execution_count": 89,
   "id": "c7f91ee9-9296-4d66-a70a-7c9a5860fed9",
   "metadata": {},
   "outputs": [],
   "source": [
    "import torch\n",
    "import numpy as np\n",
    "import pandas as pd\n",
    "import torch.nn as nn\n",
    "from torch.utils.data import Dataset, DataLoader\n",
    "import torch.optim as optim"
   ]
  },
  {
   "cell_type": "code",
   "execution_count": 90,
   "id": "ee95c431-1585-4ec8-8eea-ed5d1c2195ac",
   "metadata": {},
   "outputs": [],
   "source": [
    "df = pd.read_csv('ml-100k/u.data', sep='\\t', names=['user_id', 'item_id', 'rating', 'timestamp'])\n",
    "df = df.drop(columns=['timestamp'])\n",
    "\n",
    "df['rating'] = df['rating'] - 1\n",
    "\n",
    "num_users = df['user_id'].nunique()\n",
    "num_items = df['item_id'].nunique()"
   ]
  },
  {
   "cell_type": "code",
   "execution_count": 91,
   "id": "9e257006-4583-43aa-a3f6-af1e213a4276",
   "metadata": {},
   "outputs": [],
   "source": [
    "class MLDataset(Dataset):\n",
    "    def __init__(self, df):\n",
    "        self.users = torch.tensor(df['user_id'].values, dtype = torch.long)\n",
    "        self.ratings = torch.tensor(df['rating'].values, dtype = torch.long)\n",
    "        self.items = torch.tensor(df['item_id'].values, dtype = torch.long)\n",
    "    def __len__(self):\n",
    "        return len(self.ratings)\n",
    "    def __getitem__(self, idx):\n",
    "        return self.users[idx], self.items[idx], self.ratings[idx]\n",
    "train_dataset = MLDataset(df)\n",
    "train_loader = DataLoader(train_dataset, batch_size = 64, shuffle = True)"
   ]
  },
  {
   "cell_type": "code",
   "execution_count": 92,
   "id": "bd9cac4f-b373-48d3-9394-d83c0fead713",
   "metadata": {},
   "outputs": [],
   "source": [
    "class MLDataNN(nn.Module):\n",
    "    def __init__(self):\n",
    "        super(MLDataNN, self).__init__()\n",
    "        self.user_embedding = nn.Embedding(num_users + 1, 50)\n",
    "        self.item_embedding = nn.Embedding(num_items + 1, 50)\n",
    "        self.fc_layers = nn.Sequential(\n",
    "            nn.Linear(100, 128),\n",
    "            nn.ReLU(),\n",
    "            nn.Linear(128, 64),\n",
    "            nn.ReLU(),\n",
    "            nn.Linear(64, 5)\n",
    "        )\n",
    "    def forward(self, user, item):\n",
    "        user_embed = self.user_embedding(user)\n",
    "        item_embed = self.item_embedding(item)\n",
    "        x = torch.cat([user_embed, item_embed], dim = 1)\n",
    "        x = self.fc_layers(x)\n",
    "        return x\n",
    "model = MLDataNN()"
   ]
  }
 ],
 "metadata": {
  "kernelspec": {
   "display_name": "Python [conda env:base] *",
   "language": "python",
   "name": "conda-base-py"
  },
  "language_info": {
   "codemirror_mode": {
    "name": "ipython",
    "version": 3
   },
   "file_extension": ".py",
   "mimetype": "text/x-python",
   "name": "python",
   "nbconvert_exporter": "python",
   "pygments_lexer": "ipython3",
   "version": "3.12.7"
  }
 },
 "nbformat": 4,
 "nbformat_minor": 5
}
