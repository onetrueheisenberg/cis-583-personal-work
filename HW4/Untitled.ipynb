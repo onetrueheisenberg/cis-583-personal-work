{
 "cells": [
  {
   "cell_type": "code",
   "execution_count": 54,
   "id": "c7f91ee9-9296-4d66-a70a-7c9a5860fed9",
   "metadata": {},
   "outputs": [],
   "source": [
    "import torch\n",
    "import numpy as np\n",
    "import pandas as pd\n",
    "import torch.nn as nn\n",
    "from torch.utils.data import Dataset, DataLoader\n",
    "import torch.optim as optim\n",
    "\n",
    "from sklearn.metrics import accuracy_score"
   ]
  },
  {
   "cell_type": "code",
   "execution_count": 55,
   "id": "ee95c431-1585-4ec8-8eea-ed5d1c2195ac",
   "metadata": {},
   "outputs": [],
   "source": [
    "df = pd.read_csv('ml-100k/u.data', sep='\\t', names=['user_id', 'item_id', 'rating', 'timestamp'])\n",
    "df = df.drop(columns=['timestamp'])\n",
    "\n",
    "df['rating'] = df['rating'] - 1\n",
    "\n",
    "num_users = df['user_id'].nunique()\n",
    "num_items = df['item_id'].nunique()"
   ]
  },
  {
   "cell_type": "code",
   "execution_count": 56,
   "id": "9e257006-4583-43aa-a3f6-af1e213a4276",
   "metadata": {},
   "outputs": [],
   "source": [
    "class MLDataset(Dataset):\n",
    "    def __init__(self, df):\n",
    "        self.users = torch.tensor(df['user_id'].values, dtype = torch.long)\n",
    "        self.ratings = torch.tensor(df['rating'].values, dtype = torch.long)\n",
    "        self.items = torch.tensor(df['item_id'].values, dtype = torch.long)\n",
    "    def __len__(self):\n",
    "        return len(self.ratings)\n",
    "    def __getitem__(self, idx):\n",
    "        return self.users[idx], self.items[idx], self.ratings[idx]\n",
    "train_dataset = MLDataset(df)\n",
    "train_loader = DataLoader(train_dataset, batch_size = 64, shuffle = True)"
   ]
  },
  {
   "cell_type": "code",
   "execution_count": 57,
   "id": "bd9cac4f-b373-48d3-9394-d83c0fead713",
   "metadata": {},
   "outputs": [],
   "source": [
    "class MLDataNN(nn.Module):\n",
    "    def __init__(self):\n",
    "        super(MLDataNN, self).__init__()\n",
    "        self.user_embedding = nn.Embedding(num_users + 1, 50)\n",
    "        self.item_embedding = nn.Embedding(num_items + 1, 50)\n",
    "        self.fc_layers = nn.Sequential(\n",
    "            nn.Linear(100, 128),\n",
    "            nn.ReLU(),\n",
    "            nn.Linear(128, 64),\n",
    "            nn.ReLU(),\n",
    "            nn.Linear(64, 32),\n",
    "            nn.ReLU(),\n",
    "            nn.Linear(32, 16),\n",
    "            nn.ReLU(),\n",
    "            nn.Linear(16, 5)\n",
    "        )\n",
    "    def forward(self, user, item):\n",
    "        user_embed = self.user_embedding(user)\n",
    "        item_embed = self.item_embedding(item)\n",
    "        x = torch.cat([user_embed, item_embed], dim = 1)\n",
    "        x = self.fc_layers(x)\n",
    "        return x\n",
    "model = MLDataNN()"
   ]
  },
  {
   "cell_type": "code",
   "execution_count": 58,
   "id": "21abc632-877b-41bf-967e-3cf55b97833b",
   "metadata": {},
   "outputs": [],
   "source": [
    "criterion = nn.CrossEntropyLoss()\n",
    "optimizer = optim.Adam(model.parameters(), lr = 0.001)"
   ]
  },
  {
   "cell_type": "code",
   "execution_count": 59,
   "id": "b34764e7-0fbc-406b-8323-a89fd7a58df1",
   "metadata": {},
   "outputs": [
    {
     "data": {
      "text/plain": [
       "MLDataNN(\n",
       "  (user_embedding): Embedding(944, 50)\n",
       "  (item_embedding): Embedding(1683, 50)\n",
       "  (fc_layers): Sequential(\n",
       "    (0): Linear(in_features=100, out_features=128, bias=True)\n",
       "    (1): ReLU()\n",
       "    (2): Linear(in_features=128, out_features=64, bias=True)\n",
       "    (3): ReLU()\n",
       "    (4): Linear(in_features=64, out_features=32, bias=True)\n",
       "    (5): ReLU()\n",
       "    (6): Linear(in_features=32, out_features=16, bias=True)\n",
       "    (7): ReLU()\n",
       "    (8): Linear(in_features=16, out_features=5, bias=True)\n",
       "  )\n",
       ")"
      ]
     },
     "execution_count": 59,
     "metadata": {},
     "output_type": "execute_result"
    }
   ],
   "source": [
    "device = torch.device(\"cuda\" if torch.cuda.is_available() else \"cpu\")\n",
    "model.to(device)"
   ]
  },
  {
   "cell_type": "code",
   "execution_count": 60,
   "id": "c940a175-1bb3-403a-b0fe-4455722f9ab2",
   "metadata": {},
   "outputs": [
    {
     "name": "stdout",
     "output_type": "stream",
     "text": [
      "Epoch 1/10, Loss: 1.3843\n",
      "Epoch 2/10, Loss: 1.2780\n",
      "Epoch 3/10, Loss: 1.2387\n",
      "Epoch 4/10, Loss: 1.2130\n",
      "Epoch 5/10, Loss: 1.1939\n",
      "Epoch 6/10, Loss: 1.1752\n",
      "Epoch 7/10, Loss: 1.1557\n",
      "Epoch 8/10, Loss: 1.1370\n",
      "Epoch 9/10, Loss: 1.1186\n",
      "Epoch 10/10, Loss: 1.0972\n"
     ]
    }
   ],
   "source": [
    "num_epochs = 10\n",
    "for epoch in range(num_epochs):\n",
    "    model.train()\n",
    "    total_loss = 0.0\n",
    "    for user, item, rating in train_loader:\n",
    "        user, item, rating = user.to(device), item.to(device), rating.to(device)\n",
    "        optimizer.zero_grad()\n",
    "        output = model(user, item)\n",
    "        loss = criterion(output, rating)\n",
    "        loss.backward()\n",
    "        optimizer.step()\n",
    "\n",
    "        total_loss += loss.item()\n",
    "    print(f\"Epoch {epoch+1}/{num_epochs}, Loss: {total_loss/len(train_loader):.4f}\")"
   ]
  },
  {
   "cell_type": "code",
   "execution_count": 61,
   "id": "443b2506-d0bd-40bf-990e-a8d52d2cc0a9",
   "metadata": {},
   "outputs": [
    {
     "name": "stdout",
     "output_type": "stream",
     "text": [
      "Test Accuracy: 0.5465\n"
     ]
    }
   ],
   "source": [
    "def evaluate_model(model, loader):\n",
    "    model.eval()\n",
    "    predictions, actuals = [], []\n",
    "\n",
    "    with torch.no_grad():\n",
    "        for user, item, rating in loader:\n",
    "            user, item, rating = user.to(device), item.to(device), rating.to(device)\n",
    "            output = model(user, item)\n",
    "            pred = output.argmax(1).cpu().numpy()\n",
    "\n",
    "            predictions.extend(pred)\n",
    "            actuals.extend(rating.cpu().numpy())\n",
    "    acc = accuracy_score(actuals, predictions)\n",
    "    print(f\"Test Accuracy: {acc:.4f}\")\n",
    "evaluate_model(model, train_loader)"
   ]
  }
 ],
 "metadata": {
  "kernelspec": {
   "display_name": "Python [conda env:base] *",
   "language": "python",
   "name": "conda-base-py"
  },
  "language_info": {
   "codemirror_mode": {
    "name": "ipython",
    "version": 3
   },
   "file_extension": ".py",
   "mimetype": "text/x-python",
   "name": "python",
   "nbconvert_exporter": "python",
   "pygments_lexer": "ipython3",
   "version": "3.12.7"
  }
 },
 "nbformat": 4,
 "nbformat_minor": 5
}
