{
 "cells": [
  {
   "cell_type": "code",
   "execution_count": 139,
   "id": "baae4f9e-0d3a-4577-b52d-1133f65416cd",
   "metadata": {},
   "outputs": [],
   "source": [
    "import torch\n",
    "import torch.nn as nn\n",
    "import torch.optim as optim\n",
    "import torchvision\n",
    "import torchvision.transforms as transforms\n",
    "import matplotlib.pyplot as plt"
   ]
  },
  {
   "cell_type": "code",
   "execution_count": null,
   "id": "7129f8cc-b6bd-471d-ba99-c4ced31ca2b0",
   "metadata": {},
   "outputs": [
    {
     "name": "stdout",
     "output_type": "stream",
     "text": [
      "Downloading https://www.cs.toronto.edu/~kriz/cifar-10-python.tar.gz to ./data/cifar-10-python.tar.gz\n"
     ]
    },
    {
     "name": "stderr",
     "output_type": "stream",
     "text": [
      " 18%|███████▏                               | 31.3M/170M [00:02<00:10, 13.8MB/s]"
     ]
    }
   ],
   "source": [
    "transform = transforms.Compose([transforms.ToTensor(), transforms.Normalize( (0.5, 0.5, 0.5), (0.5, 0.5, 0.5) )])\n",
    "\n",
    "trainset = torchvision.datasets.CIFAR10(root='./data', train=True, download=True, transform = transform)\n",
    "trainloader = torch.utils.data.DataLoader(trainset, batch_size = 128, shuffle = True)\n",
    "\n",
    "testset = torchvision.datasets.CIFAR10(root='./data', train=False, download=True, transform = transform)\n",
    "testloader = torch.utils.data.DataLoader(testset, batch_size = 128, shuffle = True)\n",
    "\n",
    "images, labels = next(iter(trainloader))\n",
    "plt.imshow(torchvision.utils.make_grid(images).permute(1,2,0) / 2 + 0.5)\n",
    "plt.title(' '.join(trainset.classes[label] for label in labels));\n",
    "plt.show()\n",
    "test_losses = []"
   ]
  },
  {
   "cell_type": "code",
   "execution_count": null,
   "id": "21c0f5bf-ce0f-4435-a441-789c4fa2e4ac",
   "metadata": {},
   "outputs": [],
   "source": [
    "class CIFAR10_NN(nn.Module):\n",
    "    def __init__(self, activation_name):\n",
    "        super(CIFAR10_NN, self).__init__()\n",
    "        self.fcLayer1 = nn.Linear(32*32*3, 512)\n",
    "        self.fcLayer2 = nn.Linear(512, 256)\n",
    "        self.fcLayer3 = nn.Linear(256, 128)\n",
    "        self.fcLayer4 = nn.Linear(128, 64)\n",
    "        self.fcLayer5 = nn.Linear(64, 32)\n",
    "        self.fcLayer6 = nn.Linear(32, 16)\n",
    "        self.fcLayer7 = nn.Linear(16, 10)\n",
    "        if activation_name == \"sigmoid\": \n",
    "            self.activation = nn.Sigmoid()\n",
    "        elif activation_name == \"relu\":\n",
    "            self.activation = nn.ReLU()\n",
    "        else:\n",
    "            self.activation = nn.Tanh()\n",
    "    def forward(self, x):\n",
    "        x = x.view(x.size(0), -1)\n",
    "        x = self.activation(self.fcLayer1(x))\n",
    "        x = self.activation(self.fcLayer2(x))\n",
    "        x = self.activation(self.fcLayer3(x))\n",
    "        x = self.activation(self.fcLayer4(x))\n",
    "        x = self.activation(self.fcLayer5(x))\n",
    "        x = self.activation(self.fcLayer6(x))\n",
    "        x = self.fcLayer7(x)\n",
    "        return x"
   ]
  },
  {
   "cell_type": "code",
   "execution_count": null,
   "id": "e4607db7-b4e1-4374-9cf1-fa1de521dcac",
   "metadata": {},
   "outputs": [],
   "source": [
    "def train_and_test(activation):\n",
    "    device = torch.device(\"cpu\")\n",
    "    model = CIFAR10_NN(activation).to(device)\n",
    "    criterion = nn.CrossEntropyLoss()\n",
    "    optimizer = optim.SGD(model.parameters(), lr = 0.001)\n",
    "\n",
    "    epochs = 10\n",
    "    train_losses = []\n",
    "    test_losses = []\n",
    "    for epoch in range(epochs):\n",
    "        running_loss = 0.0\n",
    "        for batch_idx, (images, labels) in enumerate(trainloader):\n",
    "            images, labels = images.to(device), labels.to(device)\n",
    "            optimizer.zero_grad()\n",
    "            outputs = model(images)\n",
    "            loss=criterion(outputs, labels)\n",
    "            loss.backward()\n",
    "            optimizer.step()\n",
    "            running_loss += loss.item()\n",
    "            last_loss = loss.item()\n",
    "\n",
    "            # Only print gradients for the last batch of the epoch\n",
    "            if batch_idx == len(trainloader) - 1:\n",
    "                print(f\"Epoch {epoch+1}/{epochs}, Loss: {last_loss:.4f}\")\n",
    "                check_gradients(model)\n",
    "        model.eval()\n",
    "        test_loss = 0.0\n",
    "        with torch.no_grad():\n",
    "            for images, labels in testloader:\n",
    "                images, labels = images.to(device), labels.to(device)\n",
    "                outputs = model(images)\n",
    "                loss = criterion(outputs, labels)\n",
    "                test_loss += loss.item()\n",
    "        test_losses.append(test_loss / len(testloader))\n",
    "        average_loss = running_loss / len(trainloader)\n",
    "        train_losses.append(average_loss)\n",
    "        print(f\"{epoch + 1} / {epochs}, activation = {activation}, loss = {average_loss: .4f}\")\n",
    "    return train_losses, test_losses"
   ]
  },
  {
   "cell_type": "code",
   "execution_count": null,
   "id": "5172b426-d487-4f35-a71c-6318d78228ac",
   "metadata": {},
   "outputs": [],
   "source": [
    "def check_gradients(model):\n",
    "    for name, param in model.named_parameters():\n",
    "        if param.grad is not None:\n",
    "            print(f\"{name} Gradient Norm: {param.grad.norm().item()}\")"
   ]
  },
  {
   "cell_type": "code",
   "execution_count": null,
   "id": "0974edec-3e71-400f-a571-89e48def79a7",
   "metadata": {},
   "outputs": [],
   "source": [
    "activation_fns = [\"sigmoid\", \"tanh\", \"relu\"]\n",
    "results = {}\n",
    "for activation in activation_fns:\n",
    "    results[activation] = (train_and_test(activation))"
   ]
  },
  {
   "cell_type": "code",
   "execution_count": null,
   "id": "2c363708-97d3-4908-9adb-470711edcaed",
   "metadata": {},
   "outputs": [],
   "source": [
    "for name, result in results.items():\n",
    "    print(result[0], result[1])\n",
    "    plt.figure(figsize=(8, 5))\n",
    "    plt.plot(result[0], label = 'Train Loss')\n",
    "    plt.plot(result[1], label = 'Test Loss')\n",
    "    plt.xlabel(\"Epoch\")\n",
    "    plt.ylabel(\"Loss\")\n",
    "    plt.title({name})\n",
    "    plt.legend()\n",
    "    plt.show()"
   ]
  }
 ],
 "metadata": {
  "kernelspec": {
   "display_name": "Python [conda env:base] *",
   "language": "python",
   "name": "conda-base-py"
  },
  "language_info": {
   "codemirror_mode": {
    "name": "ipython",
    "version": 3
   },
   "file_extension": ".py",
   "mimetype": "text/x-python",
   "name": "python",
   "nbconvert_exporter": "python",
   "pygments_lexer": "ipython3",
   "version": "3.12.7"
  }
 },
 "nbformat": 4,
 "nbformat_minor": 5
}
