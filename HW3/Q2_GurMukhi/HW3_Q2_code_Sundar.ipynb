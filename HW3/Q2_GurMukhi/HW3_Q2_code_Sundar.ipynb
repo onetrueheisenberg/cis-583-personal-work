{
 "cells": [
  {
   "cell_type": "code",
   "execution_count": 497,
   "id": "d735a02b-7020-4f29-9290-b6ed61733c60",
   "metadata": {},
   "outputs": [],
   "source": [
    "import torch\n",
    "import torch.nn as nn\n",
    "import torch.optim as optim\n",
    "from torch.utils.data import Dataset, DataLoader\n",
    "from torchvision import transforms\n",
    "from PIL import Image\n",
    "import os\n",
    "import matplotlib.pyplot as plt"
   ]
  },
  {
   "cell_type": "code",
   "execution_count": 498,
   "id": "9efe4fc5-b204-4a8f-9289-cac04b0ad950",
   "metadata": {},
   "outputs": [],
   "source": [
    "class GurmukhiDataset(Dataset):\n",
    "    def __init__(self, data_dir, transform = None):\n",
    "        self.data_dir = data_dir\n",
    "        self.image_set = []\n",
    "        self.transform = transform\n",
    "        for class_name in os.listdir(data_dir):\n",
    "            class_path = os.path.join(self.data_dir, class_name)\n",
    "            if os.path.isdir(class_path):\n",
    "                for img_file in os.listdir(class_path):\n",
    "                    self.image_set.append((os.path.join(class_path, img_file), int(class_name)))\n",
    "    def __len__(self):\n",
    "        return len(self.image_set)\n",
    "    def __getitem__(self, index):\n",
    "        image_name, label = self.image_set[index]\n",
    "        image = Image.open(image_name).convert('L')\n",
    "        label = int(os.path.basename(os.path.dirname(image_name)))\n",
    "        if self.transform:\n",
    "            image = self.transform(image)\n",
    "        return image, label"
   ]
  },
  {
   "cell_type": "code",
   "execution_count": 499,
   "id": "bf9512c9-098e-4f0a-a3ee-14f9a6dd1915",
   "metadata": {},
   "outputs": [],
   "source": [
    "root_dir = '/Users/sundarasubramanian/yoyo/CIS-583/HW3/Q2_GurMukhi/GurNum/'\n",
    "transform = transforms.Compose([transforms.Resize((28, 28)), transforms.ToTensor(), transforms.Normalize((0.5,), (0.5,))])\n",
    "\n",
    "train_dataset = GurmukhiDataset(data_dir = f\"{root_dir}train/\", transform = transform)\n",
    "test_dataset = GurmukhiDataset(data_dir = f\"{root_dir}val/\", transform = transform)\n",
    "\n",
    "train_loader = DataLoader(train_dataset, batch_size = 32, shuffle = True)\n",
    "test_loader = DataLoader(test_dataset, batch_size = 32, shuffle = True)\n",
    "\n",
    "def l1_regularization(model, lambda_l1=0.001):\n",
    "    l1_norm = sum(p.abs().sum() for p in model.parameters())\n",
    "    return lambda_l1 * l1_norm"
   ]
  },
  {
   "cell_type": "code",
   "execution_count": 500,
   "id": "f7a0b6a7-a976-4877-b2f3-c6a4787daa85",
   "metadata": {},
   "outputs": [],
   "source": [
    "class NN(nn.Module):\n",
    "    def __init__(self):\n",
    "        super(NN, self).__init__()\n",
    "        self.relu = nn.ReLU()\n",
    "        self.max_pool = nn.MaxPool2d(kernel_size = 2)\n",
    "        self.conv1 = nn.Conv2d(1, 32, kernel_size = 3)\n",
    "        self.conv2 = nn.Conv2d(32, 64, kernel_size = 3)\n",
    "        self.fc1 = nn.Linear(64 * 5 * 5, 128)\n",
    "        self.fc2 = nn.Linear(128, 10)\n",
    "        self.dropout = nn.Dropout(0.5)\n",
    "    def forward(self, x):\n",
    "        x = self.max_pool(self.relu(self.conv1(x)))\n",
    "        x = self.max_pool(self.relu(self.conv2(x)))\n",
    "        x = x.view(x.size(0), -1)\n",
    "        x = self.relu(self.fc1(x))\n",
    "        # x = self.dropout(x)\n",
    "        x = self.fc2(x)\n",
    "        return x"
   ]
  },
  {
   "cell_type": "code",
   "execution_count": 501,
   "id": "f78aed57-a9e7-404c-81b2-3cc6e88a020d",
   "metadata": {
    "scrolled": true
   },
   "outputs": [
    {
     "name": "stdout",
     "output_type": "stream",
     "text": [
      "Epoch: 1 / 10; Loss: 0.3563\n",
      "Epoch: 2 / 10; Loss: 0.0696\n",
      "Epoch: 3 / 10; Loss: 0.0778\n",
      "Epoch: 4 / 10; Loss: 0.0086\n",
      "Epoch: 5 / 10; Loss: 0.0592\n",
      "Epoch: 6 / 10; Loss: 0.0497\n",
      "Epoch: 7 / 10; Loss: 0.0240\n",
      "Epoch: 8 / 10; Loss: 0.0129\n",
      "Epoch: 9 / 10; Loss: 0.0083\n",
      "Epoch: 10 / 10; Loss: 0.0065\n"
     ]
    }
   ],
   "source": [
    "model = NN()\n",
    "\n",
    "criterion = nn.CrossEntropyLoss()\n",
    "optimizer = optim.Adam(model.parameters(), lr = 0.001, weight_decay=0.01)\n",
    "\n",
    "epochs = 10\n",
    "losses = []\n",
    "\n",
    "for epoch in range(epochs):\n",
    "    epoch_loss = 0\n",
    "    for images, labels in train_loader:\n",
    "        outputs = model(images)\n",
    "        loss = criterion(outputs, labels)\n",
    "        # loss += l1_regularization(model)\n",
    "\n",
    "        optimizer.zero_grad()\n",
    "        loss.backward()\n",
    "        optimizer.step()\n",
    "        epoch_loss += loss.item()\n",
    "    avg_loss = epoch_loss / len(train_loader)\n",
    "    losses.append(avg_loss)\n",
    "    print(f\"Epoch: {epoch + 1} / {epochs}; Loss: {loss.item():.4f}\")"
   ]
  },
  {
   "cell_type": "code",
   "execution_count": 502,
   "id": "1eb86350-8585-4fa3-b0f6-e590fb45705e",
   "metadata": {},
   "outputs": [
    {
     "name": "stdout",
     "output_type": "stream",
     "text": [
      "Accuracy of prediction:  95.51\n"
     ]
    }
   ],
   "source": [
    "with torch.no_grad():\n",
    "    correct = 0\n",
    "    total = 0\n",
    "    for images, labels in test_loader:\n",
    "        outputs = model(images)\n",
    "        _, predicted = torch.max(outputs.data, 1)\n",
    "        total += labels.size(0)\n",
    "        correct += (predicted == labels).sum().item()\n",
    "    print(f\"Accuracy of prediction: {100 * correct / total: .2f}\")"
   ]
  },
  {
   "cell_type": "code",
   "execution_count": 503,
   "id": "e5051be6-75c8-4eb6-8d08-4305230f258a",
   "metadata": {},
   "outputs": [
    {
     "data": {
      "image/png": "[encoded data removed]",
      "text/plain": [
       "<Figure size 640x480 with 1 Axes>"
      ]
     },
     "metadata": {},
     "output_type": "display_data"
    }
   ],
   "source": [
    "plt.plot(range(1, epochs+1), losses)\n",
    "plt.xlabel(\"Epoch\")\n",
    "plt.ylabel(\"Loss\")\n",
    "plt.title(\"Training Loss Curve\")\n",
    "plt.show()"
   ]
  }
 ],
 "metadata": {
  "kernelspec": {
   "display_name": "Python [conda env:base] *",
   "language": "python",
   "name": "conda-base-py"
  },
  "language_info": {
   "codemirror_mode": {
    "name": "ipython",
    "version": 3
   },
   "file_extension": ".py",
   "mimetype": "text/x-python",
   "name": "python",
   "nbconvert_exporter": "python",
   "pygments_lexer": "ipython3",
   "version": "3.12.7"
  }
 },
 "nbformat": 4,
 "nbformat_minor": 5
}
